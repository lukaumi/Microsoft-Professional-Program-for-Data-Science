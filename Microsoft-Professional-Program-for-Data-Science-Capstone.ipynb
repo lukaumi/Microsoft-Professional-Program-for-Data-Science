{
 "cells": [
  {
   "cell_type": "markdown",
   "metadata": {
    "collapsed": true
   },
   "source": [
    "- this is solution code for capstone project for the **Microsoft Professional Program for Data Science**\n",
    "- edX course *DAT102x: Data Science Professional Project*"
   ]
  },
  {
   "cell_type": "code",
   "execution_count": 1,
   "metadata": {},
   "outputs": [
    {
     "data": {
      "application/javascript": [
       "\n",
       "            setTimeout(function() {\n",
       "                var nbb_cell_id = 1;\n",
       "                var nbb_unformatted_code = \"%load_ext nb_black\";\n",
       "                var nbb_formatted_code = \"%load_ext nb_black\";\n",
       "                var nbb_cells = Jupyter.notebook.get_cells();\n",
       "                for (var i = 0; i < nbb_cells.length; ++i) {\n",
       "                    if (nbb_cells[i].input_prompt_number == nbb_cell_id) {\n",
       "                        if (nbb_cells[i].get_text() == nbb_unformatted_code) {\n",
       "                             nbb_cells[i].set_text(nbb_formatted_code);\n",
       "                        }\n",
       "                        break;\n",
       "                    }\n",
       "                }\n",
       "            }, 500);\n",
       "            "
      ],
      "text/plain": [
       "<IPython.core.display.Javascript object>"
      ]
     },
     "metadata": {},
     "output_type": "display_data"
    }
   ],
   "source": [
    "%load_ext nb_black"
   ]
  },
  {
   "cell_type": "code",
   "execution_count": 2,
   "metadata": {},
   "outputs": [
    {
     "data": {
      "application/javascript": [
       "\n",
       "            setTimeout(function() {\n",
       "                var nbb_cell_id = 2;\n",
       "                var nbb_unformatted_code = \"import pandas as pd\\nimport matplotlib.pyplot as plt\\nimport time\\n\\nfrom sklearn import ensemble\\nfrom sklearn.metrics import mean_squared_error\\nfrom sklearn.preprocessing import StandardScaler\\nfrom sklearn.model_selection import train_test_split\";\n",
       "                var nbb_formatted_code = \"import pandas as pd\\nimport matplotlib.pyplot as plt\\nimport time\\n\\nfrom sklearn import ensemble\\nfrom sklearn.metrics import mean_squared_error\\nfrom sklearn.preprocessing import StandardScaler\\nfrom sklearn.model_selection import train_test_split\";\n",
       "                var nbb_cells = Jupyter.notebook.get_cells();\n",
       "                for (var i = 0; i < nbb_cells.length; ++i) {\n",
       "                    if (nbb_cells[i].input_prompt_number == nbb_cell_id) {\n",
       "                        if (nbb_cells[i].get_text() == nbb_unformatted_code) {\n",
       "                             nbb_cells[i].set_text(nbb_formatted_code);\n",
       "                        }\n",
       "                        break;\n",
       "                    }\n",
       "                }\n",
       "            }, 500);\n",
       "            "
      ],
      "text/plain": [
       "<IPython.core.display.Javascript object>"
      ]
     },
     "metadata": {},
     "output_type": "display_data"
    }
   ],
   "source": [
    "import pandas as pd\n",
    "import matplotlib.pyplot as plt\n",
    "import time\n",
    "\n",
    "from sklearn import ensemble\n",
    "from sklearn.metrics import mean_squared_error\n",
    "from sklearn.preprocessing import StandardScaler\n",
    "from sklearn.model_selection import train_test_split"
   ]
  },
  {
   "cell_type": "code",
   "execution_count": 3,
   "metadata": {},
   "outputs": [
    {
     "data": {
      "application/javascript": [
       "\n",
       "            setTimeout(function() {\n",
       "                var nbb_cell_id = 3;\n",
       "                var nbb_unformatted_code = \"# import data files\\nX_train = pd.read_csv(\\\"data/train_values.csv\\\", index_col=\\\"row_id\\\")\\ny_train = pd.read_csv(\\\"data/train_labels.csv\\\", index_col=\\\"row_id\\\")\\nX_test = pd.read_csv(\\\"data/test_values.csv\\\", index_col=\\\"row_id\\\")\";\n",
       "                var nbb_formatted_code = \"# import data files\\nX_train = pd.read_csv(\\\"data/train_values.csv\\\", index_col=\\\"row_id\\\")\\ny_train = pd.read_csv(\\\"data/train_labels.csv\\\", index_col=\\\"row_id\\\")\\nX_test = pd.read_csv(\\\"data/test_values.csv\\\", index_col=\\\"row_id\\\")\";\n",
       "                var nbb_cells = Jupyter.notebook.get_cells();\n",
       "                for (var i = 0; i < nbb_cells.length; ++i) {\n",
       "                    if (nbb_cells[i].input_prompt_number == nbb_cell_id) {\n",
       "                        if (nbb_cells[i].get_text() == nbb_unformatted_code) {\n",
       "                             nbb_cells[i].set_text(nbb_formatted_code);\n",
       "                        }\n",
       "                        break;\n",
       "                    }\n",
       "                }\n",
       "            }, 500);\n",
       "            "
      ],
      "text/plain": [
       "<IPython.core.display.Javascript object>"
      ]
     },
     "metadata": {},
     "output_type": "display_data"
    }
   ],
   "source": [
    "# import data files\n",
    "X_train = pd.read_csv(\"data/train_values.csv\", index_col=\"row_id\")\n",
    "y_train = pd.read_csv(\"data/train_labels.csv\", index_col=\"row_id\")\n",
    "X_test = pd.read_csv(\"data/test_values.csv\", index_col=\"row_id\")"
   ]
  },
  {
   "cell_type": "code",
   "execution_count": 4,
   "metadata": {
    "scrolled": true
   },
   "outputs": [
    {
     "name": "stdout",
     "output_type": "stream",
     "text": [
      "X_train shape: (8705, 443)\n",
      "y_train shape: (8705, 1)\n",
      "\n",
      "X_test shape: (6391, 443)\n"
     ]
    },
    {
     "data": {
      "application/javascript": [
       "\n",
       "            setTimeout(function() {\n",
       "                var nbb_cell_id = 4;\n",
       "                var nbb_unformatted_code = \"print(\\\"X_train shape:\\\", X_train.shape)\\nprint(\\\"y_train shape:\\\", y_train.shape)\\nprint()\\nprint(\\\"X_test shape:\\\", X_test.shape)\";\n",
       "                var nbb_formatted_code = \"print(\\\"X_train shape:\\\", X_train.shape)\\nprint(\\\"y_train shape:\\\", y_train.shape)\\nprint()\\nprint(\\\"X_test shape:\\\", X_test.shape)\";\n",
       "                var nbb_cells = Jupyter.notebook.get_cells();\n",
       "                for (var i = 0; i < nbb_cells.length; ++i) {\n",
       "                    if (nbb_cells[i].input_prompt_number == nbb_cell_id) {\n",
       "                        if (nbb_cells[i].get_text() == nbb_unformatted_code) {\n",
       "                             nbb_cells[i].set_text(nbb_formatted_code);\n",
       "                        }\n",
       "                        break;\n",
       "                    }\n",
       "                }\n",
       "            }, 500);\n",
       "            "
      ],
      "text/plain": [
       "<IPython.core.display.Javascript object>"
      ]
     },
     "metadata": {},
     "output_type": "display_data"
    }
   ],
   "source": [
    "print(\"X_train shape:\", X_train.shape)\n",
    "print(\"y_train shape:\", y_train.shape)\n",
    "print()\n",
    "print(\"X_test shape:\", X_test.shape)"
   ]
  },
  {
   "cell_type": "code",
   "execution_count": 5,
   "metadata": {},
   "outputs": [
    {
     "data": {
      "application/javascript": [
       "\n",
       "            setTimeout(function() {\n",
       "                var nbb_cell_id = 5;\n",
       "                var nbb_unformatted_code = \"row_id = X_test.index\";\n",
       "                var nbb_formatted_code = \"row_id = X_test.index\";\n",
       "                var nbb_cells = Jupyter.notebook.get_cells();\n",
       "                for (var i = 0; i < nbb_cells.length; ++i) {\n",
       "                    if (nbb_cells[i].input_prompt_number == nbb_cell_id) {\n",
       "                        if (nbb_cells[i].get_text() == nbb_unformatted_code) {\n",
       "                             nbb_cells[i].set_text(nbb_formatted_code);\n",
       "                        }\n",
       "                        break;\n",
       "                    }\n",
       "                }\n",
       "            }, 500);\n",
       "            "
      ],
      "text/plain": [
       "<IPython.core.display.Javascript object>"
      ]
     },
     "metadata": {},
     "output_type": "display_data"
    }
   ],
   "source": [
    "row_id = X_test.index"
   ]
  },
  {
   "cell_type": "markdown",
   "metadata": {},
   "source": [
    "# Analyze the Data"
   ]
  },
  {
   "cell_type": "markdown",
   "metadata": {},
   "source": [
    "#### repayment_rate summary statistics\n",
    "\n",
    "Based on your analysis of the original, unmodified training data, enter the following summary statistics you calculated for the `repayment_rate` column."
   ]
  },
  {
   "cell_type": "code",
   "execution_count": 6,
   "metadata": {},
   "outputs": [
    {
     "name": "stdout",
     "output_type": "stream",
     "text": [
      "Minimum repayment_rate: 5.162707558220717\n",
      "Maximum repayment_rate: 100.47363087310478\n",
      "Mean repayment_rate: 47.3708628512851\n",
      "Median repayment_rate: 44.855045202386776\n",
      "Standard Deviation of repayment_rate: 20.987641995662944\n"
     ]
    },
    {
     "data": {
      "application/javascript": [
       "\n",
       "            setTimeout(function() {\n",
       "                var nbb_cell_id = 6;\n",
       "                var nbb_unformatted_code = \"print(\\\"Minimum repayment_rate:\\\", y_train.repayment_rate.min())\\nprint(\\\"Maximum repayment_rate:\\\", y_train.repayment_rate.max())\\nprint(\\\"Mean repayment_rate:\\\", y_train.repayment_rate.mean())\\nprint(\\\"Median repayment_rate:\\\", y_train.repayment_rate.median())\\nprint(\\\"Standard Deviation of repayment_rate:\\\", y_train.repayment_rate.std())\";\n",
       "                var nbb_formatted_code = \"print(\\\"Minimum repayment_rate:\\\", y_train.repayment_rate.min())\\nprint(\\\"Maximum repayment_rate:\\\", y_train.repayment_rate.max())\\nprint(\\\"Mean repayment_rate:\\\", y_train.repayment_rate.mean())\\nprint(\\\"Median repayment_rate:\\\", y_train.repayment_rate.median())\\nprint(\\\"Standard Deviation of repayment_rate:\\\", y_train.repayment_rate.std())\";\n",
       "                var nbb_cells = Jupyter.notebook.get_cells();\n",
       "                for (var i = 0; i < nbb_cells.length; ++i) {\n",
       "                    if (nbb_cells[i].input_prompt_number == nbb_cell_id) {\n",
       "                        if (nbb_cells[i].get_text() == nbb_unformatted_code) {\n",
       "                             nbb_cells[i].set_text(nbb_formatted_code);\n",
       "                        }\n",
       "                        break;\n",
       "                    }\n",
       "                }\n",
       "            }, 500);\n",
       "            "
      ],
      "text/plain": [
       "<IPython.core.display.Javascript object>"
      ]
     },
     "metadata": {},
     "output_type": "display_data"
    }
   ],
   "source": [
    "print(\"Minimum repayment_rate:\", y_train.repayment_rate.min())\n",
    "print(\"Maximum repayment_rate:\", y_train.repayment_rate.max())\n",
    "print(\"Mean repayment_rate:\", y_train.repayment_rate.mean())\n",
    "print(\"Median repayment_rate:\", y_train.repayment_rate.median())\n",
    "print(\"Standard Deviation of repayment_rate:\", y_train.repayment_rate.std())"
   ]
  },
  {
   "cell_type": "markdown",
   "metadata": {},
   "source": [
    "#### Distribution of `repayment_rate`."
   ]
  },
  {
   "cell_type": "code",
   "execution_count": 7,
   "metadata": {},
   "outputs": [
    {
     "data": {
      "image/png": "[encoded data removed]",
      "text/plain": [
       "<Figure size 432x288 with 1 Axes>"
      ]
     },
     "metadata": {
      "needs_background": "light"
     },
     "output_type": "display_data"
    },
    {
     "data": {
      "application/javascript": [
       "\n",
       "            setTimeout(function() {\n",
       "                var nbb_cell_id = 7;\n",
       "                var nbb_unformatted_code = \"# plot repayment_rate histogram\\nplt.show(plt.hist(y_train.repayment_rate))\";\n",
       "                var nbb_formatted_code = \"# plot repayment_rate histogram\\nplt.show(plt.hist(y_train.repayment_rate))\";\n",
       "                var nbb_cells = Jupyter.notebook.get_cells();\n",
       "                for (var i = 0; i < nbb_cells.length; ++i) {\n",
       "                    if (nbb_cells[i].input_prompt_number == nbb_cell_id) {\n",
       "                        if (nbb_cells[i].get_text() == nbb_unformatted_code) {\n",
       "                             nbb_cells[i].set_text(nbb_formatted_code);\n",
       "                        }\n",
       "                        break;\n",
       "                    }\n",
       "                }\n",
       "            }, 500);\n",
       "            "
      ],
      "text/plain": [
       "<IPython.core.display.Javascript object>"
      ]
     },
     "metadata": {},
     "output_type": "display_data"
    }
   ],
   "source": [
    "# plot repayment_rate histogram\n",
    "plt.show(plt.hist(y_train.repayment_rate))"
   ]
  },
  {
   "cell_type": "markdown",
   "metadata": {},
   "source": [
    "#### School Ownership vs Repayment Rate\n",
    "\n",
    "Which two of the following statements are true:\n",
    "  - 1) The median repayment rate for privately owned for-profit schools is higher than that of privately owned not-for-profit schools.\n",
    "  - 2) The median repayment rate for privately owned not-for-profit schools is higher than that of public schools.\n",
    "  - 3) The median repayment rate for public schools is higher than that of privately owned for-profit schools."
   ]
  },
  {
   "cell_type": "code",
   "execution_count": 8,
   "metadata": {},
   "outputs": [
    {
     "name": "stdout",
     "output_type": "stream",
     "text": [
      "completion__completion_rate_4yr_150_race_unknown\n",
      "completion__completion_rate_l4yr_150_race_unknown\n",
      "school__ownership\n",
      "student__demographics_race_ethnicity_unknown\n"
     ]
    },
    {
     "data": {
      "application/javascript": [
       "\n",
       "            setTimeout(function() {\n",
       "                var nbb_cell_id = 8;\n",
       "                var nbb_unformatted_code = \"# find columns containing \\\"own\\\" to get relevant column\\nown_columns = [col for col in X_train.columns if \\\"own\\\" in col]\\nprint(*own_columns, sep=\\\"\\\\n\\\")\";\n",
       "                var nbb_formatted_code = \"# find columns containing \\\"own\\\" to get relevant column\\nown_columns = [col for col in X_train.columns if \\\"own\\\" in col]\\nprint(*own_columns, sep=\\\"\\\\n\\\")\";\n",
       "                var nbb_cells = Jupyter.notebook.get_cells();\n",
       "                for (var i = 0; i < nbb_cells.length; ++i) {\n",
       "                    if (nbb_cells[i].input_prompt_number == nbb_cell_id) {\n",
       "                        if (nbb_cells[i].get_text() == nbb_unformatted_code) {\n",
       "                             nbb_cells[i].set_text(nbb_formatted_code);\n",
       "                        }\n",
       "                        break;\n",
       "                    }\n",
       "                }\n",
       "            }, 500);\n",
       "            "
      ],
      "text/plain": [
       "<IPython.core.display.Javascript object>"
      ]
     },
     "metadata": {},
     "output_type": "display_data"
    }
   ],
   "source": [
    "# find columns containing \"own\" to get relevant column\n",
    "own_columns = [col for col in X_train.columns if \"own\" in col]\n",
    "print(*own_columns, sep=\"\\n\")"
   ]
  },
  {
   "cell_type": "code",
   "execution_count": 9,
   "metadata": {},
   "outputs": [
    {
     "name": "stdout",
     "output_type": "stream",
     "text": [
      "school__ownership\n",
      "Private for-profit    33.242106\n",
      "Public                52.392471\n",
      "Private nonprofit     67.492957\n",
      "Name: repayment_rate, dtype: float64\n"
     ]
    },
    {
     "data": {
      "application/javascript": [
       "\n",
       "            setTimeout(function() {\n",
       "                var nbb_cell_id = 9;\n",
       "                var nbb_unformatted_code = \"print(y_train.repayment_rate.groupby(X_train.school__ownership).median().sort_values())\";\n",
       "                var nbb_formatted_code = \"print(y_train.repayment_rate.groupby(X_train.school__ownership).median().sort_values())\";\n",
       "                var nbb_cells = Jupyter.notebook.get_cells();\n",
       "                for (var i = 0; i < nbb_cells.length; ++i) {\n",
       "                    if (nbb_cells[i].input_prompt_number == nbb_cell_id) {\n",
       "                        if (nbb_cells[i].get_text() == nbb_unformatted_code) {\n",
       "                             nbb_cells[i].set_text(nbb_formatted_code);\n",
       "                        }\n",
       "                        break;\n",
       "                    }\n",
       "                }\n",
       "            }, 500);\n",
       "            "
      ],
      "text/plain": [
       "<IPython.core.display.Javascript object>"
      ]
     },
     "metadata": {},
     "output_type": "display_data"
    }
   ],
   "source": [
    "print(y_train.repayment_rate.groupby(X_train.school__ownership).median().sort_values())"
   ]
  },
  {
   "cell_type": "code",
   "execution_count": 10,
   "metadata": {},
   "outputs": [
    {
     "name": "stdout",
     "output_type": "stream",
     "text": [
      "Statement 1: False\n",
      "Statement 2: True\n",
      "Statement 3: True\n"
     ]
    },
    {
     "data": {
      "application/javascript": [
       "\n",
       "            setTimeout(function() {\n",
       "                var nbb_cell_id = 10;\n",
       "                var nbb_unformatted_code = \"Private_for_profit = (\\n    y_train.repayment_rate.groupby(X_train.school__ownership)\\n    .median()\\n    .loc[\\\"Private for-profit\\\"]\\n)\\nPublic = (\\n    y_train.repayment_rate.groupby(X_train.school__ownership).median().loc[\\\"Public\\\"]\\n)\\nPrivate_nonprofit = (\\n    y_train.repayment_rate.groupby(X_train.school__ownership)\\n    .median()\\n    .loc[\\\"Private nonprofit\\\"]\\n)\\n\\nprint(\\\"Statement 1:\\\", Private_for_profit > Private_nonprofit)\\nprint(\\\"Statement 2:\\\", Private_nonprofit > Public)\\nprint(\\\"Statement 3:\\\", Public > Private_for_profit)\";\n",
       "                var nbb_formatted_code = \"Private_for_profit = (\\n    y_train.repayment_rate.groupby(X_train.school__ownership)\\n    .median()\\n    .loc[\\\"Private for-profit\\\"]\\n)\\nPublic = (\\n    y_train.repayment_rate.groupby(X_train.school__ownership).median().loc[\\\"Public\\\"]\\n)\\nPrivate_nonprofit = (\\n    y_train.repayment_rate.groupby(X_train.school__ownership)\\n    .median()\\n    .loc[\\\"Private nonprofit\\\"]\\n)\\n\\nprint(\\\"Statement 1:\\\", Private_for_profit > Private_nonprofit)\\nprint(\\\"Statement 2:\\\", Private_nonprofit > Public)\\nprint(\\\"Statement 3:\\\", Public > Private_for_profit)\";\n",
       "                var nbb_cells = Jupyter.notebook.get_cells();\n",
       "                for (var i = 0; i < nbb_cells.length; ++i) {\n",
       "                    if (nbb_cells[i].input_prompt_number == nbb_cell_id) {\n",
       "                        if (nbb_cells[i].get_text() == nbb_unformatted_code) {\n",
       "                             nbb_cells[i].set_text(nbb_formatted_code);\n",
       "                        }\n",
       "                        break;\n",
       "                    }\n",
       "                }\n",
       "            }, 500);\n",
       "            "
      ],
      "text/plain": [
       "<IPython.core.display.Javascript object>"
      ]
     },
     "metadata": {},
     "output_type": "display_data"
    }
   ],
   "source": [
    "Private_for_profit = (\n",
    "    y_train.repayment_rate.groupby(X_train.school__ownership)\n",
    "    .median()\n",
    "    .loc[\"Private for-profit\"]\n",
    ")\n",
    "Public = (\n",
    "    y_train.repayment_rate.groupby(X_train.school__ownership).median().loc[\"Public\"]\n",
    ")\n",
    "Private_nonprofit = (\n",
    "    y_train.repayment_rate.groupby(X_train.school__ownership)\n",
    "    .median()\n",
    "    .loc[\"Private nonprofit\"]\n",
    ")\n",
    "\n",
    "print(\"Statement 1:\", Private_for_profit > Private_nonprofit)\n",
    "print(\"Statement 2:\", Private_nonprofit > Public)\n",
    "print(\"Statement 3:\", Public > Private_for_profit)"
   ]
  },
  {
   "cell_type": "markdown",
   "metadata": {},
   "source": [
    "#### SAT Scores vs Repayment Rate\n",
    "\n",
    "Which of the following best describes the apparent relationship between SAT scores and repayment rates?\n",
    "  - 1) Schools that admit students with a higher average overall SAT score tend to have a lower repayment rate.\n",
    "  - 2) Schools that admit students with a higher average overall SAT score tend to have a higher repayment rate.\n",
    "  - 3) Average overall SAT score for school admissions has no discernible relationship with repayment rate."
   ]
  },
  {
   "cell_type": "code",
   "execution_count": 11,
   "metadata": {},
   "outputs": [
    {
     "name": "stdout",
     "output_type": "stream",
     "text": [
      "admissions__sat_scores_25th_percentile_critical_reading\n",
      "admissions__sat_scores_25th_percentile_math\n",
      "admissions__sat_scores_25th_percentile_writing\n",
      "admissions__sat_scores_75th_percentile_critical_reading\n",
      "admissions__sat_scores_75th_percentile_math\n",
      "admissions__sat_scores_75th_percentile_writing\n",
      "admissions__sat_scores_average_by_ope_id\n",
      "admissions__sat_scores_average_overall\n",
      "admissions__sat_scores_midpoint_critical_reading\n",
      "admissions__sat_scores_midpoint_math\n",
      "admissions__sat_scores_midpoint_writing\n"
     ]
    },
    {
     "data": {
      "application/javascript": [
       "\n",
       "            setTimeout(function() {\n",
       "                var nbb_cell_id = 11;\n",
       "                var nbb_unformatted_code = \"# find columns containing \\\"sat\\\" to get relevant column\\nsat_columns = [col for col in X_train.columns if \\\"sat\\\" in col]\\nprint(*sat_columns, sep=\\\"\\\\n\\\")\";\n",
       "                var nbb_formatted_code = \"# find columns containing \\\"sat\\\" to get relevant column\\nsat_columns = [col for col in X_train.columns if \\\"sat\\\" in col]\\nprint(*sat_columns, sep=\\\"\\\\n\\\")\";\n",
       "                var nbb_cells = Jupyter.notebook.get_cells();\n",
       "                for (var i = 0; i < nbb_cells.length; ++i) {\n",
       "                    if (nbb_cells[i].input_prompt_number == nbb_cell_id) {\n",
       "                        if (nbb_cells[i].get_text() == nbb_unformatted_code) {\n",
       "                             nbb_cells[i].set_text(nbb_formatted_code);\n",
       "                        }\n",
       "                        break;\n",
       "                    }\n",
       "                }\n",
       "            }, 500);\n",
       "            "
      ],
      "text/plain": [
       "<IPython.core.display.Javascript object>"
      ]
     },
     "metadata": {},
     "output_type": "display_data"
    }
   ],
   "source": [
    "# find columns containing \"sat\" to get relevant column\n",
    "sat_columns = [col for col in X_train.columns if \"sat\" in col]\n",
    "print(*sat_columns, sep=\"\\n\")"
   ]
  },
  {
   "cell_type": "code",
   "execution_count": 12,
   "metadata": {
    "scrolled": true
   },
   "outputs": [
    {
     "data": {
      "image/png": "[encoded data removed]",
      "text/plain": [
       "<Figure size 1440x720 with 1 Axes>"
      ]
     },
     "metadata": {
      "needs_background": "light"
     },
     "output_type": "display_data"
    },
    {
     "data": {
      "application/javascript": [
       "\n",
       "            setTimeout(function() {\n",
       "                var nbb_cell_id = 12;\n",
       "                var nbb_unformatted_code = \"X_train_sorted, y_train_sorted = zip(\\n    *sorted(zip(y_train.repayment_rate, X_train.admissions__sat_scores_average_overall))\\n)\\n\\n# plot relationship between SAT scores and repayment rates\\nfig, ax = plt.subplots(1, 1, figsize=(20, 10))\\nplt.plot(X_train_sorted, y_train_sorted)\\nplt.ylabel(\\\"admissions__sat_scores_average_overall\\\")\\nplt.xlabel(\\\"repayment_rate\\\")\\nplt.show()\";\n",
       "                var nbb_formatted_code = \"X_train_sorted, y_train_sorted = zip(\\n    *sorted(zip(y_train.repayment_rate, X_train.admissions__sat_scores_average_overall))\\n)\\n\\n# plot relationship between SAT scores and repayment rates\\nfig, ax = plt.subplots(1, 1, figsize=(20, 10))\\nplt.plot(X_train_sorted, y_train_sorted)\\nplt.ylabel(\\\"admissions__sat_scores_average_overall\\\")\\nplt.xlabel(\\\"repayment_rate\\\")\\nplt.show()\";\n",
       "                var nbb_cells = Jupyter.notebook.get_cells();\n",
       "                for (var i = 0; i < nbb_cells.length; ++i) {\n",
       "                    if (nbb_cells[i].input_prompt_number == nbb_cell_id) {\n",
       "                        if (nbb_cells[i].get_text() == nbb_unformatted_code) {\n",
       "                             nbb_cells[i].set_text(nbb_formatted_code);\n",
       "                        }\n",
       "                        break;\n",
       "                    }\n",
       "                }\n",
       "            }, 500);\n",
       "            "
      ],
      "text/plain": [
       "<IPython.core.display.Javascript object>"
      ]
     },
     "metadata": {},
     "output_type": "display_data"
    }
   ],
   "source": [
    "X_train_sorted, y_train_sorted = zip(\n",
    "    *sorted(zip(y_train.repayment_rate, X_train.admissions__sat_scores_average_overall))\n",
    ")\n",
    "\n",
    "# plot relationship between SAT scores and repayment rates\n",
    "fig, ax = plt.subplots(1, 1, figsize=(20, 10))\n",
    "plt.plot(X_train_sorted, y_train_sorted)\n",
    "plt.ylabel(\"admissions__sat_scores_average_overall\")\n",
    "plt.xlabel(\"repayment_rate\")\n",
    "plt.show()"
   ]
  },
  {
   "cell_type": "markdown",
   "metadata": {},
   "source": [
    "Answer: 2) Schools that admit students with a higher average overall SAT score tend to have a higher repayment rate."
   ]
  },
  {
   "cell_type": "markdown",
   "metadata": {},
   "source": [
    "####  Median Family Income vs Repayment Rate\n",
    "\n",
    "\n",
    "Which of the following best describes the apparent relationship between median family income and repayment rates?\n",
    "  - 1) Schools where students have a low median family income tend to have a low repayment rate.\n",
    "  - 2) Schools where students have a low median family income tend to have a high repayment rate.\n",
    "  - 3) Median family income has no discernible relationship with repayment rate."
   ]
  },
  {
   "cell_type": "code",
   "execution_count": 13,
   "metadata": {},
   "outputs": [
    {
     "name": "stdout",
     "output_type": "stream",
     "text": [
      "student__demographics_avg_family_income\n",
      "student__demographics_avg_family_income_independents\n",
      "student__demographics_median_family_income\n",
      "student__family_income_dependent_students\n",
      "student__family_income_independent_students\n",
      "student__family_income_overall\n"
     ]
    },
    {
     "data": {
      "application/javascript": [
       "\n",
       "            setTimeout(function() {\n",
       "                var nbb_cell_id = 13;\n",
       "                var nbb_unformatted_code = \"# find columns containing \\\"family_income\\\" to get relevant column\\nfamily_income_columns = [col for col in X_train.columns if \\\"family_income\\\" in col]\\nprint(*family_income_columns, sep=\\\"\\\\n\\\")\";\n",
       "                var nbb_formatted_code = \"# find columns containing \\\"family_income\\\" to get relevant column\\nfamily_income_columns = [col for col in X_train.columns if \\\"family_income\\\" in col]\\nprint(*family_income_columns, sep=\\\"\\\\n\\\")\";\n",
       "                var nbb_cells = Jupyter.notebook.get_cells();\n",
       "                for (var i = 0; i < nbb_cells.length; ++i) {\n",
       "                    if (nbb_cells[i].input_prompt_number == nbb_cell_id) {\n",
       "                        if (nbb_cells[i].get_text() == nbb_unformatted_code) {\n",
       "                             nbb_cells[i].set_text(nbb_formatted_code);\n",
       "                        }\n",
       "                        break;\n",
       "                    }\n",
       "                }\n",
       "            }, 500);\n",
       "            "
      ],
      "text/plain": [
       "<IPython.core.display.Javascript object>"
      ]
     },
     "metadata": {},
     "output_type": "display_data"
    }
   ],
   "source": [
    "# find columns containing \"family_income\" to get relevant column\n",
    "family_income_columns = [col for col in X_train.columns if \"family_income\" in col]\n",
    "print(*family_income_columns, sep=\"\\n\")"
   ]
  },
  {
   "cell_type": "code",
   "execution_count": 14,
   "metadata": {},
   "outputs": [
    {
     "data": {
      "image/png": "[encoded data removed]",
      "text/plain": [
       "<Figure size 1440x720 with 1 Axes>"
      ]
     },
     "metadata": {
      "needs_background": "light"
     },
     "output_type": "display_data"
    },
    {
     "data": {
      "application/javascript": [
       "\n",
       "            setTimeout(function() {\n",
       "                var nbb_cell_id = 14;\n",
       "                var nbb_unformatted_code = \"X_train_sorted, y_train_sorted = zip(\\n    *sorted(\\n        zip(y_train.repayment_rate, X_train.student__demographics_median_family_income)\\n    )\\n)\\n\\n# plot relationship between between median family income and repayment rates\\nfig, ax = plt.subplots(1, 1, figsize=(20, 10))\\nplt.ylabel(\\\"student__demographics_median_family_income\\\")\\nplt.xlabel(\\\"repayment_rate\\\")\\nplt.plot(X_train_sorted, y_train_sorted)\\nplt.show()\";\n",
       "                var nbb_formatted_code = \"X_train_sorted, y_train_sorted = zip(\\n    *sorted(\\n        zip(y_train.repayment_rate, X_train.student__demographics_median_family_income)\\n    )\\n)\\n\\n# plot relationship between between median family income and repayment rates\\nfig, ax = plt.subplots(1, 1, figsize=(20, 10))\\nplt.ylabel(\\\"student__demographics_median_family_income\\\")\\nplt.xlabel(\\\"repayment_rate\\\")\\nplt.plot(X_train_sorted, y_train_sorted)\\nplt.show()\";\n",
       "                var nbb_cells = Jupyter.notebook.get_cells();\n",
       "                for (var i = 0; i < nbb_cells.length; ++i) {\n",
       "                    if (nbb_cells[i].input_prompt_number == nbb_cell_id) {\n",
       "                        if (nbb_cells[i].get_text() == nbb_unformatted_code) {\n",
       "                             nbb_cells[i].set_text(nbb_formatted_code);\n",
       "                        }\n",
       "                        break;\n",
       "                    }\n",
       "                }\n",
       "            }, 500);\n",
       "            "
      ],
      "text/plain": [
       "<IPython.core.display.Javascript object>"
      ]
     },
     "metadata": {},
     "output_type": "display_data"
    }
   ],
   "source": [
    "X_train_sorted, y_train_sorted = zip(\n",
    "    *sorted(\n",
    "        zip(y_train.repayment_rate, X_train.student__demographics_median_family_income)\n",
    "    )\n",
    ")\n",
    "\n",
    "# plot relationship between between median family income and repayment rates\n",
    "fig, ax = plt.subplots(1, 1, figsize=(20, 10))\n",
    "plt.ylabel(\"student__demographics_median_family_income\")\n",
    "plt.xlabel(\"repayment_rate\")\n",
    "plt.plot(X_train_sorted, y_train_sorted)\n",
    "plt.show()"
   ]
  },
  {
   "cell_type": "markdown",
   "metadata": {},
   "source": [
    "Answer: 1) Schools where students have a low median family income tend to have a low repayment rate."
   ]
  },
  {
   "cell_type": "markdown",
   "metadata": {},
   "source": [
    "#### School Region vs Repayment rate\n",
    "\n",
    "Which of the following school regions has the highest median repayment rate?\n",
    "  - 1) Great Lakes\n",
    "  - 2) Far West\n",
    "  - 3) New England\n",
    "  - 4) Rocky Mountains"
   ]
  },
  {
   "cell_type": "code",
   "execution_count": 15,
   "metadata": {},
   "outputs": [
    {
     "name": "stdout",
     "output_type": "stream",
     "text": [
      "school__region_id\n"
     ]
    },
    {
     "data": {
      "application/javascript": [
       "\n",
       "            setTimeout(function() {\n",
       "                var nbb_cell_id = 15;\n",
       "                var nbb_unformatted_code = \"# find columns containing \\\"region\\\" to get relevant column\\nregion_columns = [col for col in X_train.columns if \\\"region\\\" in col]\\nprint(*region_columns, sep=\\\"\\\\n\\\")\";\n",
       "                var nbb_formatted_code = \"# find columns containing \\\"region\\\" to get relevant column\\nregion_columns = [col for col in X_train.columns if \\\"region\\\" in col]\\nprint(*region_columns, sep=\\\"\\\\n\\\")\";\n",
       "                var nbb_cells = Jupyter.notebook.get_cells();\n",
       "                for (var i = 0; i < nbb_cells.length; ++i) {\n",
       "                    if (nbb_cells[i].input_prompt_number == nbb_cell_id) {\n",
       "                        if (nbb_cells[i].get_text() == nbb_unformatted_code) {\n",
       "                             nbb_cells[i].set_text(nbb_formatted_code);\n",
       "                        }\n",
       "                        break;\n",
       "                    }\n",
       "                }\n",
       "            }, 500);\n",
       "            "
      ],
      "text/plain": [
       "<IPython.core.display.Javascript object>"
      ]
     },
     "metadata": {},
     "output_type": "display_data"
    }
   ],
   "source": [
    "# find columns containing \"region\" to get relevant column\n",
    "region_columns = [col for col in X_train.columns if \"region\" in col]\n",
    "print(*region_columns, sep=\"\\n\")"
   ]
  },
  {
   "cell_type": "code",
   "execution_count": 16,
   "metadata": {
    "scrolled": true
   },
   "outputs": [
    {
     "name": "stdout",
     "output_type": "stream",
     "text": [
      "school__region_id\n",
      "Southeast (AL, AR, FL, GA, KY, LA, MS, NC, SC, TN, VA, WV)    34.979262\n",
      "Southwest (AZ, NM, OK, TX)                                    35.721824\n",
      "Outlying Areas (AS, FM, GU, MH, MP, PR, PW, VI)               39.844847\n",
      "Far West (AK, CA, HI, NV, OR, WA)                             43.874565\n",
      "Great Lakes (IL, IN, MI, OH, WI)                              45.356757\n",
      "Rocky Mountains (CO, ID, MT, UT, WY)                          47.890840\n",
      "Mid East (DE, DC, MD, NJ, NY, PA)                             54.069880\n",
      "Plains (IA, KS, MN, MO, NE, ND, SD)                           54.133111\n",
      "New England (CT, ME, MA, NH, RI, VT)                          62.002451\n",
      "U.S. Service Schools                                          90.755288\n",
      "Name: repayment_rate, dtype: float64\n"
     ]
    },
    {
     "data": {
      "application/javascript": [
       "\n",
       "            setTimeout(function() {\n",
       "                var nbb_cell_id = 16;\n",
       "                var nbb_unformatted_code = \"print(y_train.repayment_rate.groupby(X_train.school__region_id).median().sort_values())\";\n",
       "                var nbb_formatted_code = \"print(y_train.repayment_rate.groupby(X_train.school__region_id).median().sort_values())\";\n",
       "                var nbb_cells = Jupyter.notebook.get_cells();\n",
       "                for (var i = 0; i < nbb_cells.length; ++i) {\n",
       "                    if (nbb_cells[i].input_prompt_number == nbb_cell_id) {\n",
       "                        if (nbb_cells[i].get_text() == nbb_unformatted_code) {\n",
       "                             nbb_cells[i].set_text(nbb_formatted_code);\n",
       "                        }\n",
       "                        break;\n",
       "                    }\n",
       "                }\n",
       "            }, 500);\n",
       "            "
      ],
      "text/plain": [
       "<IPython.core.display.Javascript object>"
      ]
     },
     "metadata": {},
     "output_type": "display_data"
    }
   ],
   "source": [
    "print(y_train.repayment_rate.groupby(X_train.school__region_id).median().sort_values())"
   ]
  },
  {
   "cell_type": "markdown",
   "metadata": {},
   "source": [
    "Answer: 3) New England"
   ]
  },
  {
   "cell_type": "markdown",
   "metadata": {},
   "source": [
    "# Challenge - Predicting Student Loan Repayment Rate"
   ]
  },
  {
   "cell_type": "code",
   "execution_count": 17,
   "metadata": {},
   "outputs": [
    {
     "data": {
      "text/plain": [
       "Index(['report_year', 'school__carnegie_basic',\n",
       "       'school__carnegie_size_setting', 'school__carnegie_undergrad',\n",
       "       'school__degrees_awarded_highest',\n",
       "       'school__degrees_awarded_predominant',\n",
       "       'school__institutional_characteristics_level', 'school__locale',\n",
       "       'school__main_campus', 'school__men_only',\n",
       "       'school__minority_serving_aanipi', 'school__minority_serving_annh',\n",
       "       'school__minority_serving_hispanic',\n",
       "       'school__minority_serving_historically_black',\n",
       "       'school__minority_serving_nant',\n",
       "       'school__minority_serving_predominantly_black',\n",
       "       'school__minority_serving_tribal', 'school__online_only',\n",
       "       'school__ownership', 'school__region_id',\n",
       "       'school__religious_affiliation', 'school__state', 'school__women_only'],\n",
       "      dtype='object')"
      ]
     },
     "execution_count": 17,
     "metadata": {},
     "output_type": "execute_result"
    },
    {
     "data": {
      "application/javascript": [
       "\n",
       "            setTimeout(function() {\n",
       "                var nbb_cell_id = 17;\n",
       "                var nbb_unformatted_code = \"X_train.select_dtypes([\\\"object\\\"]).columns\";\n",
       "                var nbb_formatted_code = \"X_train.select_dtypes([\\\"object\\\"]).columns\";\n",
       "                var nbb_cells = Jupyter.notebook.get_cells();\n",
       "                for (var i = 0; i < nbb_cells.length; ++i) {\n",
       "                    if (nbb_cells[i].input_prompt_number == nbb_cell_id) {\n",
       "                        if (nbb_cells[i].get_text() == nbb_unformatted_code) {\n",
       "                             nbb_cells[i].set_text(nbb_formatted_code);\n",
       "                        }\n",
       "                        break;\n",
       "                    }\n",
       "                }\n",
       "            }, 500);\n",
       "            "
      ],
      "text/plain": [
       "<IPython.core.display.Javascript object>"
      ]
     },
     "metadata": {},
     "output_type": "display_data"
    }
   ],
   "source": [
    "X_train.select_dtypes([\"object\"]).columns"
   ]
  },
  {
   "cell_type": "code",
   "execution_count": 18,
   "metadata": {},
   "outputs": [
    {
     "name": "stdout",
     "output_type": "stream",
     "text": [
      "agriculture:  [ 0.  1. nan  2.]\n",
      "architecture:  [ 0. nan  1.  2.]\n",
      "biological:  [ 0. nan  1.  2.]\n",
      "marketing:  [ 2.  0.  1. nan]\n"
     ]
    },
    {
     "data": {
      "application/javascript": [
       "\n",
       "            setTimeout(function() {\n",
       "                var nbb_cell_id = 18;\n",
       "                var nbb_unformatted_code = \"print(\\\"agriculture: \\\", X_train.academics__program_assoc_agriculture.unique())\\nprint(\\\"architecture: \\\", X_train.academics__program_assoc_architecture.unique())\\nprint(\\\"biological: \\\", X_train.academics__program_assoc_biological.unique())\\nprint(\\\"marketing: \\\", X_train.academics__program_assoc_business_marketing.unique())\";\n",
       "                var nbb_formatted_code = \"print(\\\"agriculture: \\\", X_train.academics__program_assoc_agriculture.unique())\\nprint(\\\"architecture: \\\", X_train.academics__program_assoc_architecture.unique())\\nprint(\\\"biological: \\\", X_train.academics__program_assoc_biological.unique())\\nprint(\\\"marketing: \\\", X_train.academics__program_assoc_business_marketing.unique())\";\n",
       "                var nbb_cells = Jupyter.notebook.get_cells();\n",
       "                for (var i = 0; i < nbb_cells.length; ++i) {\n",
       "                    if (nbb_cells[i].input_prompt_number == nbb_cell_id) {\n",
       "                        if (nbb_cells[i].get_text() == nbb_unformatted_code) {\n",
       "                             nbb_cells[i].set_text(nbb_formatted_code);\n",
       "                        }\n",
       "                        break;\n",
       "                    }\n",
       "                }\n",
       "            }, 500);\n",
       "            "
      ],
      "text/plain": [
       "<IPython.core.display.Javascript object>"
      ]
     },
     "metadata": {},
     "output_type": "display_data"
    }
   ],
   "source": [
    "print(\"agriculture: \", X_train.academics__program_assoc_agriculture.unique())\n",
    "print(\"architecture: \", X_train.academics__program_assoc_architecture.unique())\n",
    "print(\"biological: \", X_train.academics__program_assoc_biological.unique())\n",
    "print(\"marketing: \", X_train.academics__program_assoc_business_marketing.unique())"
   ]
  },
  {
   "cell_type": "code",
   "execution_count": 19,
   "metadata": {},
   "outputs": [
    {
     "data": {
      "application/javascript": [
       "\n",
       "            setTimeout(function() {\n",
       "                var nbb_cell_id = 19;\n",
       "                var nbb_unformatted_code = \"object_cols = X_train.select_dtypes(\\\"object\\\").columns\\nfloat_cols = X_train.select_dtypes(\\\"float64\\\").columns\\n\\nd1 = dict((col, \\\"\\\") for col in object_cols)\\nd2 = dict((col, 0) for col in float_cols)\\nX_train = X_train.fillna(value=dict(d1, **d2))\";\n",
       "                var nbb_formatted_code = \"object_cols = X_train.select_dtypes(\\\"object\\\").columns\\nfloat_cols = X_train.select_dtypes(\\\"float64\\\").columns\\n\\nd1 = dict((col, \\\"\\\") for col in object_cols)\\nd2 = dict((col, 0) for col in float_cols)\\nX_train = X_train.fillna(value=dict(d1, **d2))\";\n",
       "                var nbb_cells = Jupyter.notebook.get_cells();\n",
       "                for (var i = 0; i < nbb_cells.length; ++i) {\n",
       "                    if (nbb_cells[i].input_prompt_number == nbb_cell_id) {\n",
       "                        if (nbb_cells[i].get_text() == nbb_unformatted_code) {\n",
       "                             nbb_cells[i].set_text(nbb_formatted_code);\n",
       "                        }\n",
       "                        break;\n",
       "                    }\n",
       "                }\n",
       "            }, 500);\n",
       "            "
      ],
      "text/plain": [
       "<IPython.core.display.Javascript object>"
      ]
     },
     "metadata": {},
     "output_type": "display_data"
    }
   ],
   "source": [
    "object_cols = X_train.select_dtypes(\"object\").columns\n",
    "float_cols = X_train.select_dtypes(\"float64\").columns\n",
    "\n",
    "d1 = dict((col, \"\") for col in object_cols)\n",
    "d2 = dict((col, 0) for col in float_cols)\n",
    "X_train = X_train.fillna(value=dict(d1, **d2))"
   ]
  },
  {
   "cell_type": "code",
   "execution_count": 20,
   "metadata": {},
   "outputs": [
    {
     "name": "stdout",
     "output_type": "stream",
     "text": [
      "(8705, 443)\n",
      "(6391, 443)\n",
      "Float: (8705, 419)\n",
      "Float: (6391, 419)\n"
     ]
    },
    {
     "data": {
      "application/javascript": [
       "\n",
       "            setTimeout(function() {\n",
       "                var nbb_cell_id = 20;\n",
       "                var nbb_unformatted_code = \"print(X_train.shape)\\nprint(X_test.shape)\\n\\nprint(\\\"Float:\\\", X_train.loc[:, X_train.dtypes == float].shape)\\nprint(\\\"Float:\\\", X_test.loc[:, X_test.dtypes == float].shape)\";\n",
       "                var nbb_formatted_code = \"print(X_train.shape)\\nprint(X_test.shape)\\n\\nprint(\\\"Float:\\\", X_train.loc[:, X_train.dtypes == float].shape)\\nprint(\\\"Float:\\\", X_test.loc[:, X_test.dtypes == float].shape)\";\n",
       "                var nbb_cells = Jupyter.notebook.get_cells();\n",
       "                for (var i = 0; i < nbb_cells.length; ++i) {\n",
       "                    if (nbb_cells[i].input_prompt_number == nbb_cell_id) {\n",
       "                        if (nbb_cells[i].get_text() == nbb_unformatted_code) {\n",
       "                             nbb_cells[i].set_text(nbb_formatted_code);\n",
       "                        }\n",
       "                        break;\n",
       "                    }\n",
       "                }\n",
       "            }, 500);\n",
       "            "
      ],
      "text/plain": [
       "<IPython.core.display.Javascript object>"
      ]
     },
     "metadata": {},
     "output_type": "display_data"
    }
   ],
   "source": [
    "print(X_train.shape)\n",
    "print(X_test.shape)\n",
    "\n",
    "print(\"Float:\", X_train.loc[:, X_train.dtypes == float].shape)\n",
    "print(\"Float:\", X_test.loc[:, X_test.dtypes == float].shape)"
   ]
  },
  {
   "cell_type": "code",
   "execution_count": 21,
   "metadata": {},
   "outputs": [
    {
     "data": {
      "application/javascript": [
       "\n",
       "            setTimeout(function() {\n",
       "                var nbb_cell_id = 21;\n",
       "                var nbb_unformatted_code = \"object_cols_test = X_test.select_dtypes(\\\"object\\\").columns\\nfloat_cols_test = X_test.select_dtypes(\\\"float64\\\").columns\\n\\nd1_test = dict((col, \\\"\\\") for col in object_cols_test)\\nd2_test = dict((col, 0) for col in float_cols_test)\\nX_test = X_test.fillna(value=dict(d1_test, **d2_test))\";\n",
       "                var nbb_formatted_code = \"object_cols_test = X_test.select_dtypes(\\\"object\\\").columns\\nfloat_cols_test = X_test.select_dtypes(\\\"float64\\\").columns\\n\\nd1_test = dict((col, \\\"\\\") for col in object_cols_test)\\nd2_test = dict((col, 0) for col in float_cols_test)\\nX_test = X_test.fillna(value=dict(d1_test, **d2_test))\";\n",
       "                var nbb_cells = Jupyter.notebook.get_cells();\n",
       "                for (var i = 0; i < nbb_cells.length; ++i) {\n",
       "                    if (nbb_cells[i].input_prompt_number == nbb_cell_id) {\n",
       "                        if (nbb_cells[i].get_text() == nbb_unformatted_code) {\n",
       "                             nbb_cells[i].set_text(nbb_formatted_code);\n",
       "                        }\n",
       "                        break;\n",
       "                    }\n",
       "                }\n",
       "            }, 500);\n",
       "            "
      ],
      "text/plain": [
       "<IPython.core.display.Javascript object>"
      ]
     },
     "metadata": {},
     "output_type": "display_data"
    }
   ],
   "source": [
    "object_cols_test = X_test.select_dtypes(\"object\").columns\n",
    "float_cols_test = X_test.select_dtypes(\"float64\").columns\n",
    "\n",
    "d1_test = dict((col, \"\") for col in object_cols_test)\n",
    "d2_test = dict((col, 0) for col in float_cols_test)\n",
    "X_test = X_test.fillna(value=dict(d1_test, **d2_test))"
   ]
  },
  {
   "cell_type": "code",
   "execution_count": 22,
   "metadata": {},
   "outputs": [
    {
     "name": "stdout",
     "output_type": "stream",
     "text": [
      "(8705, 443)\n",
      "(6391, 443)\n",
      "Float: (8705, 419)\n",
      "Float: (6391, 419)\n"
     ]
    },
    {
     "data": {
      "application/javascript": [
       "\n",
       "            setTimeout(function() {\n",
       "                var nbb_cell_id = 22;\n",
       "                var nbb_unformatted_code = \"print(X_train.shape)\\nprint(X_test.shape)\\n\\nprint(\\\"Float:\\\", X_train.loc[:, X_train.dtypes == float].shape)\\nprint(\\\"Float:\\\", X_test.loc[:, X_test.dtypes == float].shape)\";\n",
       "                var nbb_formatted_code = \"print(X_train.shape)\\nprint(X_test.shape)\\n\\nprint(\\\"Float:\\\", X_train.loc[:, X_train.dtypes == float].shape)\\nprint(\\\"Float:\\\", X_test.loc[:, X_test.dtypes == float].shape)\";\n",
       "                var nbb_cells = Jupyter.notebook.get_cells();\n",
       "                for (var i = 0; i < nbb_cells.length; ++i) {\n",
       "                    if (nbb_cells[i].input_prompt_number == nbb_cell_id) {\n",
       "                        if (nbb_cells[i].get_text() == nbb_unformatted_code) {\n",
       "                             nbb_cells[i].set_text(nbb_formatted_code);\n",
       "                        }\n",
       "                        break;\n",
       "                    }\n",
       "                }\n",
       "            }, 500);\n",
       "            "
      ],
      "text/plain": [
       "<IPython.core.display.Javascript object>"
      ]
     },
     "metadata": {},
     "output_type": "display_data"
    }
   ],
   "source": [
    "print(X_train.shape)\n",
    "print(X_test.shape)\n",
    "\n",
    "print(\"Float:\", X_train.loc[:, X_train.dtypes == float].shape)\n",
    "print(\"Float:\", X_test.loc[:, X_test.dtypes == float].shape)"
   ]
  },
  {
   "cell_type": "code",
   "execution_count": 23,
   "metadata": {},
   "outputs": [
    {
     "data": {
      "application/javascript": [
       "\n",
       "            setTimeout(function() {\n",
       "                var nbb_cell_id = 23;\n",
       "                var nbb_unformatted_code = \"X_train.loc[:, X_train.dtypes == float] = X_train.loc[\\n    :, X_train.dtypes == float\\n].fillna(0)\\nX_test.loc[:, X_test.dtypes == float] = X_test.loc[:, X_test.dtypes == float].fillna(0)\";\n",
       "                var nbb_formatted_code = \"X_train.loc[:, X_train.dtypes == float] = X_train.loc[\\n    :, X_train.dtypes == float\\n].fillna(0)\\nX_test.loc[:, X_test.dtypes == float] = X_test.loc[:, X_test.dtypes == float].fillna(0)\";\n",
       "                var nbb_cells = Jupyter.notebook.get_cells();\n",
       "                for (var i = 0; i < nbb_cells.length; ++i) {\n",
       "                    if (nbb_cells[i].input_prompt_number == nbb_cell_id) {\n",
       "                        if (nbb_cells[i].get_text() == nbb_unformatted_code) {\n",
       "                             nbb_cells[i].set_text(nbb_formatted_code);\n",
       "                        }\n",
       "                        break;\n",
       "                    }\n",
       "                }\n",
       "            }, 500);\n",
       "            "
      ],
      "text/plain": [
       "<IPython.core.display.Javascript object>"
      ]
     },
     "metadata": {},
     "output_type": "display_data"
    }
   ],
   "source": [
    "X_train.loc[:, X_train.dtypes == float] = X_train.loc[\n",
    "    :, X_train.dtypes == float\n",
    "].fillna(0)\n",
    "X_test.loc[:, X_test.dtypes == float] = X_test.loc[:, X_test.dtypes == float].fillna(0)"
   ]
  },
  {
   "cell_type": "code",
   "execution_count": 24,
   "metadata": {},
   "outputs": [
    {
     "name": "stdout",
     "output_type": "stream",
     "text": [
      "(8705, 419)\n",
      "(6391, 419)\n"
     ]
    },
    {
     "data": {
      "application/javascript": [
       "\n",
       "            setTimeout(function() {\n",
       "                var nbb_cell_id = 24;\n",
       "                var nbb_unformatted_code = \"print(X_train.loc[:, X_train.dtypes == float].shape)\\nprint(X_test.loc[:, X_test.dtypes == float].shape)\";\n",
       "                var nbb_formatted_code = \"print(X_train.loc[:, X_train.dtypes == float].shape)\\nprint(X_test.loc[:, X_test.dtypes == float].shape)\";\n",
       "                var nbb_cells = Jupyter.notebook.get_cells();\n",
       "                for (var i = 0; i < nbb_cells.length; ++i) {\n",
       "                    if (nbb_cells[i].input_prompt_number == nbb_cell_id) {\n",
       "                        if (nbb_cells[i].get_text() == nbb_unformatted_code) {\n",
       "                             nbb_cells[i].set_text(nbb_formatted_code);\n",
       "                        }\n",
       "                        break;\n",
       "                    }\n",
       "                }\n",
       "            }, 500);\n",
       "            "
      ],
      "text/plain": [
       "<IPython.core.display.Javascript object>"
      ]
     },
     "metadata": {},
     "output_type": "display_data"
    }
   ],
   "source": [
    "print(X_train.loc[:, X_train.dtypes == float].shape)\n",
    "print(X_test.loc[:, X_test.dtypes == float].shape)"
   ]
  },
  {
   "cell_type": "code",
   "execution_count": 25,
   "metadata": {},
   "outputs": [
    {
     "data": {
      "application/javascript": [
       "\n",
       "            setTimeout(function() {\n",
       "                var nbb_cell_id = 25;\n",
       "                var nbb_unformatted_code = \"scaler = StandardScaler()\\n\\n# Don't cheat - fit only on training data\\nscaler = scaler.fit(X_train.loc[:, X_train.dtypes == float])\\nX_train = scaler.transform(X_train.loc[:, X_train.dtypes == float])\\n# X_test = scaler.transform(X_test.loc[:, X_test.dtypes == float])\";\n",
       "                var nbb_formatted_code = \"scaler = StandardScaler()\\n\\n# Don't cheat - fit only on training data\\nscaler = scaler.fit(X_train.loc[:, X_train.dtypes == float])\\nX_train = scaler.transform(X_train.loc[:, X_train.dtypes == float])\\n# X_test = scaler.transform(X_test.loc[:, X_test.dtypes == float])\";\n",
       "                var nbb_cells = Jupyter.notebook.get_cells();\n",
       "                for (var i = 0; i < nbb_cells.length; ++i) {\n",
       "                    if (nbb_cells[i].input_prompt_number == nbb_cell_id) {\n",
       "                        if (nbb_cells[i].get_text() == nbb_unformatted_code) {\n",
       "                             nbb_cells[i].set_text(nbb_formatted_code);\n",
       "                        }\n",
       "                        break;\n",
       "                    }\n",
       "                }\n",
       "            }, 500);\n",
       "            "
      ],
      "text/plain": [
       "<IPython.core.display.Javascript object>"
      ]
     },
     "metadata": {},
     "output_type": "display_data"
    }
   ],
   "source": [
    "scaler = StandardScaler()\n",
    "\n",
    "# Don't cheat - fit only on training data\n",
    "scaler = scaler.fit(X_train.loc[:, X_train.dtypes == float])\n",
    "X_train = scaler.transform(X_train.loc[:, X_train.dtypes == float])\n",
    "# X_test = scaler.transform(X_test.loc[:, X_test.dtypes == float])"
   ]
  },
  {
   "cell_type": "code",
   "execution_count": 26,
   "metadata": {},
   "outputs": [
    {
     "data": {
      "application/javascript": [
       "\n",
       "            setTimeout(function() {\n",
       "                var nbb_cell_id = 26;\n",
       "                var nbb_unformatted_code = \"X_test = scaler.transform(X_test.loc[:, X_test.dtypes == float])\";\n",
       "                var nbb_formatted_code = \"X_test = scaler.transform(X_test.loc[:, X_test.dtypes == float])\";\n",
       "                var nbb_cells = Jupyter.notebook.get_cells();\n",
       "                for (var i = 0; i < nbb_cells.length; ++i) {\n",
       "                    if (nbb_cells[i].input_prompt_number == nbb_cell_id) {\n",
       "                        if (nbb_cells[i].get_text() == nbb_unformatted_code) {\n",
       "                             nbb_cells[i].set_text(nbb_formatted_code);\n",
       "                        }\n",
       "                        break;\n",
       "                    }\n",
       "                }\n",
       "            }, 500);\n",
       "            "
      ],
      "text/plain": [
       "<IPython.core.display.Javascript object>"
      ]
     },
     "metadata": {},
     "output_type": "display_data"
    }
   ],
   "source": [
    "X_test = scaler.transform(X_test.loc[:, X_test.dtypes == float])"
   ]
  },
  {
   "cell_type": "code",
   "execution_count": 27,
   "metadata": {},
   "outputs": [
    {
     "name": "stdout",
     "output_type": "stream",
     "text": [
      "(8705, 419)\n",
      "(6391, 419)\n"
     ]
    },
    {
     "data": {
      "application/javascript": [
       "\n",
       "            setTimeout(function() {\n",
       "                var nbb_cell_id = 27;\n",
       "                var nbb_unformatted_code = \"print(X_train.shape)\\nprint(X_test.shape)\";\n",
       "                var nbb_formatted_code = \"print(X_train.shape)\\nprint(X_test.shape)\";\n",
       "                var nbb_cells = Jupyter.notebook.get_cells();\n",
       "                for (var i = 0; i < nbb_cells.length; ++i) {\n",
       "                    if (nbb_cells[i].input_prompt_number == nbb_cell_id) {\n",
       "                        if (nbb_cells[i].get_text() == nbb_unformatted_code) {\n",
       "                             nbb_cells[i].set_text(nbb_formatted_code);\n",
       "                        }\n",
       "                        break;\n",
       "                    }\n",
       "                }\n",
       "            }, 500);\n",
       "            "
      ],
      "text/plain": [
       "<IPython.core.display.Javascript object>"
      ]
     },
     "metadata": {},
     "output_type": "display_data"
    }
   ],
   "source": [
    "print(X_train.shape)\n",
    "print(X_test.shape)"
   ]
  },
  {
   "cell_type": "code",
   "execution_count": 28,
   "metadata": {},
   "outputs": [
    {
     "data": {
      "application/javascript": [
       "\n",
       "            setTimeout(function() {\n",
       "                var nbb_cell_id = 28;\n",
       "                var nbb_unformatted_code = \"data_train, data_test, label_train, label_test = train_test_split(\\n    X_train, y_train, test_size=0.7, random_state=7\\n)\";\n",
       "                var nbb_formatted_code = \"data_train, data_test, label_train, label_test = train_test_split(\\n    X_train, y_train, test_size=0.7, random_state=7\\n)\";\n",
       "                var nbb_cells = Jupyter.notebook.get_cells();\n",
       "                for (var i = 0; i < nbb_cells.length; ++i) {\n",
       "                    if (nbb_cells[i].input_prompt_number == nbb_cell_id) {\n",
       "                        if (nbb_cells[i].get_text() == nbb_unformatted_code) {\n",
       "                             nbb_cells[i].set_text(nbb_formatted_code);\n",
       "                        }\n",
       "                        break;\n",
       "                    }\n",
       "                }\n",
       "            }, 500);\n",
       "            "
      ],
      "text/plain": [
       "<IPython.core.display.Javascript object>"
      ]
     },
     "metadata": {},
     "output_type": "display_data"
    }
   ],
   "source": [
    "data_train, data_test, label_train, label_test = train_test_split(\n",
    "    X_train, y_train, test_size=0.7, random_state=7\n",
    ")"
   ]
  },
  {
   "cell_type": "code",
   "execution_count": 29,
   "metadata": {
    "scrolled": true
   },
   "outputs": [
    {
     "name": "stdout",
     "output_type": "stream",
     "text": [
      "Fitting...\n",
      "Fitting completed in:  246.0208797454834\n",
      "GradientBoostingRegressor(alpha=0.9, ccp_alpha=0.0, criterion='mse', init=None,\n",
      "                          learning_rate=0.05, loss='ls', max_depth=5,\n",
      "                          max_features=None, max_leaf_nodes=None,\n",
      "                          min_impurity_decrease=0.0, min_impurity_split=None,\n",
      "                          min_samples_leaf=1, min_samples_split=3,\n",
      "                          min_weight_fraction_leaf=0.0, n_estimators=500,\n",
      "                          n_iter_no_change=None, presort='deprecated',\n",
      "                          random_state=None, subsample=1.0, tol=0.0001,\n",
      "                          validation_fraction=0.1, verbose=0, warm_start=False)\n",
      "MSE on train data: 13.786643\n",
      "MRSE on train data: 3.713037\n",
      "Score on train data: 96.86973487157982 %\n"
     ]
    },
    {
     "data": {
      "application/javascript": [
       "\n",
       "            setTimeout(function() {\n",
       "                var nbb_cell_id = 29;\n",
       "                var nbb_unformatted_code = \"# Train best model on full train dataset\\nfrom sklearn import ensemble\\n\\nparams = {\\n    \\\"n_estimators\\\": 500,\\n    \\\"max_depth\\\": 5,\\n    \\\"min_samples_split\\\": 3,\\n    \\\"learning_rate\\\": 0.05,\\n    \\\"loss\\\": \\\"ls\\\",\\n    \\\"criterion\\\": \\\"mse\\\",\\n}\\nmodel = ensemble.GradientBoostingRegressor(**params)\\n\\nprint(\\\"Fitting...\\\")\\nstart_time = time.time()\\n\\nmodel.fit(X_train, y_train.values.ravel())\\n\\nend_time = time.time()\\nprint(\\\"Fitting completed in: \\\", end_time - start_time)\\n\\nprint(model)\\n\\nmse_train_data = mean_squared_error(y_train, model.predict(X_train))\\nmrse_train_data = mean_squared_error(y_train, model.predict(X_train)) ** 0.5\\n\\nprint(\\\"MSE on train data: %f\\\" % mse_train_data)\\nprint(\\\"MRSE on train data: %f\\\" % mrse_train_data)\\nprint(\\\"Score on train data:\\\", (model.score(X_train, y_train)) * 100, \\\"%\\\")\";\n",
       "                var nbb_formatted_code = \"# Train best model on full train dataset\\nfrom sklearn import ensemble\\n\\nparams = {\\n    \\\"n_estimators\\\": 500,\\n    \\\"max_depth\\\": 5,\\n    \\\"min_samples_split\\\": 3,\\n    \\\"learning_rate\\\": 0.05,\\n    \\\"loss\\\": \\\"ls\\\",\\n    \\\"criterion\\\": \\\"mse\\\",\\n}\\nmodel = ensemble.GradientBoostingRegressor(**params)\\n\\nprint(\\\"Fitting...\\\")\\nstart_time = time.time()\\n\\nmodel.fit(X_train, y_train.values.ravel())\\n\\nend_time = time.time()\\nprint(\\\"Fitting completed in: \\\", end_time - start_time)\\n\\nprint(model)\\n\\nmse_train_data = mean_squared_error(y_train, model.predict(X_train))\\nmrse_train_data = mean_squared_error(y_train, model.predict(X_train)) ** 0.5\\n\\nprint(\\\"MSE on train data: %f\\\" % mse_train_data)\\nprint(\\\"MRSE on train data: %f\\\" % mrse_train_data)\\nprint(\\\"Score on train data:\\\", (model.score(X_train, y_train)) * 100, \\\"%\\\")\";\n",
       "                var nbb_cells = Jupyter.notebook.get_cells();\n",
       "                for (var i = 0; i < nbb_cells.length; ++i) {\n",
       "                    if (nbb_cells[i].input_prompt_number == nbb_cell_id) {\n",
       "                        if (nbb_cells[i].get_text() == nbb_unformatted_code) {\n",
       "                             nbb_cells[i].set_text(nbb_formatted_code);\n",
       "                        }\n",
       "                        break;\n",
       "                    }\n",
       "                }\n",
       "            }, 500);\n",
       "            "
      ],
      "text/plain": [
       "<IPython.core.display.Javascript object>"
      ]
     },
     "metadata": {},
     "output_type": "display_data"
    }
   ],
   "source": [
    "# Train best model on full train dataset\n",
    "from sklearn import ensemble\n",
    "\n",
    "params = {\n",
    "    \"n_estimators\": 500,\n",
    "    \"max_depth\": 5,\n",
    "    \"min_samples_split\": 3,\n",
    "    \"learning_rate\": 0.05,\n",
    "    \"loss\": \"ls\",\n",
    "    \"criterion\": \"mse\",\n",
    "}\n",
    "model = ensemble.GradientBoostingRegressor(**params)\n",
    "\n",
    "print(\"Fitting...\")\n",
    "start_time = time.time()\n",
    "\n",
    "model.fit(X_train, y_train.values.ravel())\n",
    "\n",
    "end_time = time.time()\n",
    "print(\"Fitting completed in: \", end_time - start_time)\n",
    "\n",
    "print(model)\n",
    "\n",
    "mse_train_data = mean_squared_error(y_train, model.predict(X_train))\n",
    "mrse_train_data = mean_squared_error(y_train, model.predict(X_train)) ** 0.5\n",
    "\n",
    "print(\"MSE on train data: %f\" % mse_train_data)\n",
    "print(\"MRSE on train data: %f\" % mrse_train_data)\n",
    "print(\"Score on train data:\", (model.score(X_train, y_train)) * 100, \"%\")"
   ]
  },
  {
   "cell_type": "code",
   "execution_count": 30,
   "metadata": {
    "scrolled": true
   },
   "outputs": [
    {
     "data": {
      "application/javascript": [
       "\n",
       "            setTimeout(function() {\n",
       "                var nbb_cell_id = 30;\n",
       "                var nbb_unformatted_code = \"prediction = model.predict(X_test)\";\n",
       "                var nbb_formatted_code = \"prediction = model.predict(X_test)\";\n",
       "                var nbb_cells = Jupyter.notebook.get_cells();\n",
       "                for (var i = 0; i < nbb_cells.length; ++i) {\n",
       "                    if (nbb_cells[i].input_prompt_number == nbb_cell_id) {\n",
       "                        if (nbb_cells[i].get_text() == nbb_unformatted_code) {\n",
       "                             nbb_cells[i].set_text(nbb_formatted_code);\n",
       "                        }\n",
       "                        break;\n",
       "                    }\n",
       "                }\n",
       "            }, 500);\n",
       "            "
      ],
      "text/plain": [
       "<IPython.core.display.Javascript object>"
      ]
     },
     "metadata": {},
     "output_type": "display_data"
    }
   ],
   "source": [
    "prediction = model.predict(X_test)"
   ]
  },
  {
   "cell_type": "code",
   "execution_count": 31,
   "metadata": {
    "scrolled": false
   },
   "outputs": [
    {
     "data": {
      "text/html": [
       "<div>\n",
       "<style scoped>\n",
       "    .dataframe tbody tr th:only-of-type {\n",
       "        vertical-align: middle;\n",
       "    }\n",
       "\n",
       "    .dataframe tbody tr th {\n",
       "        vertical-align: top;\n",
       "    }\n",
       "\n",
       "    .dataframe thead th {\n",
       "        text-align: right;\n",
       "    }\n",
       "</style>\n",
       "<table border=\"1\" class=\"dataframe\">\n",
       "  <thead>\n",
       "    <tr style=\"text-align: right;\">\n",
       "      <th></th>\n",
       "      <th>repayment_rate</th>\n",
       "    </tr>\n",
       "    <tr>\n",
       "      <th>row_id</th>\n",
       "      <th></th>\n",
       "    </tr>\n",
       "  </thead>\n",
       "  <tbody>\n",
       "    <tr>\n",
       "      <th>0</th>\n",
       "      <td>48.207136</td>\n",
       "    </tr>\n",
       "    <tr>\n",
       "      <th>1</th>\n",
       "      <td>42.094610</td>\n",
       "    </tr>\n",
       "    <tr>\n",
       "      <th>2</th>\n",
       "      <td>33.437984</td>\n",
       "    </tr>\n",
       "    <tr>\n",
       "      <th>9</th>\n",
       "      <td>88.196251</td>\n",
       "    </tr>\n",
       "    <tr>\n",
       "      <th>10</th>\n",
       "      <td>76.628230</td>\n",
       "    </tr>\n",
       "    <tr>\n",
       "      <th>...</th>\n",
       "      <td>...</td>\n",
       "    </tr>\n",
       "    <tr>\n",
       "      <th>15079</th>\n",
       "      <td>54.445311</td>\n",
       "    </tr>\n",
       "    <tr>\n",
       "      <th>15082</th>\n",
       "      <td>47.389777</td>\n",
       "    </tr>\n",
       "    <tr>\n",
       "      <th>15087</th>\n",
       "      <td>37.569235</td>\n",
       "    </tr>\n",
       "    <tr>\n",
       "      <th>15090</th>\n",
       "      <td>79.842957</td>\n",
       "    </tr>\n",
       "    <tr>\n",
       "      <th>15092</th>\n",
       "      <td>20.120784</td>\n",
       "    </tr>\n",
       "  </tbody>\n",
       "</table>\n",
       "<p>6391 rows × 1 columns</p>\n",
       "</div>"
      ],
      "text/plain": [
       "        repayment_rate\n",
       "row_id                \n",
       "0            48.207136\n",
       "1            42.094610\n",
       "2            33.437984\n",
       "9            88.196251\n",
       "10           76.628230\n",
       "...                ...\n",
       "15079        54.445311\n",
       "15082        47.389777\n",
       "15087        37.569235\n",
       "15090        79.842957\n",
       "15092        20.120784\n",
       "\n",
       "[6391 rows x 1 columns]"
      ]
     },
     "execution_count": 31,
     "metadata": {},
     "output_type": "execute_result"
    },
    {
     "data": {
      "application/javascript": [
       "\n",
       "            setTimeout(function() {\n",
       "                var nbb_cell_id = 31;\n",
       "                var nbb_unformatted_code = \"result = pd.DataFrame({\\\"row_id\\\": row_id, \\\"repayment_rate\\\": prediction})\\nresult_cols = result.columns.tolist()\\nresult_cols = result_cols[-1:] + result_cols[:-1]\\nresult = result[result_cols]\\nresult = result.set_index(row_id)\\n\\ndel result[\\\"row_id\\\"]\\nresult\";\n",
       "                var nbb_formatted_code = \"result = pd.DataFrame({\\\"row_id\\\": row_id, \\\"repayment_rate\\\": prediction})\\nresult_cols = result.columns.tolist()\\nresult_cols = result_cols[-1:] + result_cols[:-1]\\nresult = result[result_cols]\\nresult = result.set_index(row_id)\\n\\ndel result[\\\"row_id\\\"]\\nresult\";\n",
       "                var nbb_cells = Jupyter.notebook.get_cells();\n",
       "                for (var i = 0; i < nbb_cells.length; ++i) {\n",
       "                    if (nbb_cells[i].input_prompt_number == nbb_cell_id) {\n",
       "                        if (nbb_cells[i].get_text() == nbb_unformatted_code) {\n",
       "                             nbb_cells[i].set_text(nbb_formatted_code);\n",
       "                        }\n",
       "                        break;\n",
       "                    }\n",
       "                }\n",
       "            }, 500);\n",
       "            "
      ],
      "text/plain": [
       "<IPython.core.display.Javascript object>"
      ]
     },
     "metadata": {},
     "output_type": "display_data"
    }
   ],
   "source": [
    "result = pd.DataFrame({\"row_id\": row_id, \"repayment_rate\": prediction})\n",
    "result_cols = result.columns.tolist()\n",
    "result_cols = result_cols[-1:] + result_cols[:-1]\n",
    "result = result[result_cols]\n",
    "result = result.set_index(row_id)\n",
    "\n",
    "del result[\"row_id\"]\n",
    "result"
   ]
  },
  {
   "cell_type": "code",
   "execution_count": 32,
   "metadata": {},
   "outputs": [
    {
     "data": {
      "application/javascript": [
       "\n",
       "            setTimeout(function() {\n",
       "                var nbb_cell_id = 32;\n",
       "                var nbb_unformatted_code = \"result.to_csv(\\\"./result.csv\\\")\";\n",
       "                var nbb_formatted_code = \"result.to_csv(\\\"./result.csv\\\")\";\n",
       "                var nbb_cells = Jupyter.notebook.get_cells();\n",
       "                for (var i = 0; i < nbb_cells.length; ++i) {\n",
       "                    if (nbb_cells[i].input_prompt_number == nbb_cell_id) {\n",
       "                        if (nbb_cells[i].get_text() == nbb_unformatted_code) {\n",
       "                             nbb_cells[i].set_text(nbb_formatted_code);\n",
       "                        }\n",
       "                        break;\n",
       "                    }\n",
       "                }\n",
       "            }, 500);\n",
       "            "
      ],
      "text/plain": [
       "<IPython.core.display.Javascript object>"
      ]
     },
     "metadata": {},
     "output_type": "display_data"
    }
   ],
   "source": [
    "result.to_csv(\"./result.csv\")"
   ]
  },
  {
   "cell_type": "code",
   "execution_count": null,
   "metadata": {},
   "outputs": [],
   "source": []
  }
 ],
 "metadata": {
  "kernelspec": {
   "display_name": "Python 3",
   "language": "python",
   "name": "python3"
  },
  "language_info": {
   "codemirror_mode": {
    "name": "ipython",
    "version": 3
   },
   "file_extension": ".py",
   "mimetype": "text/x-python",
   "name": "python",
   "nbconvert_exporter": "python",
   "pygments_lexer": "ipython3",
   "version": "3.7.6"
  }
 },
 "nbformat": 4,
 "nbformat_minor": 2
}
